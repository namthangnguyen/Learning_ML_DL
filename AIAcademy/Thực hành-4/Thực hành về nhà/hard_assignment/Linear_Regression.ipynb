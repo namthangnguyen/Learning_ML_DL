{
 "cells": [
  {
   "cell_type": "code",
   "execution_count": 2,
   "metadata": {
    "collapsed": false
   },
   "outputs": [],
   "source": [
    "%matplotlib inline"
   ]
  },
  {
   "cell_type": "code",
   "execution_count": 2,
   "metadata": {
    "collapsed": true
   },
   "outputs": [],
   "source": [
    "import numpy as np\n",
    "import matplotlib.pyplot as plt"
   ]
  },
  {
   "cell_type": "markdown",
   "metadata": {},
   "source": [
    "Simple Gradient Descent\n",
    "==============\n",
    "Minimize: $f(\\theta)=4\\theta^2-200\\theta+50$"
   ]
  },
  {
   "cell_type": "code",
   "execution_count": null,
   "metadata": {
    "collapsed": false
   },
   "outputs": [],
   "source": [
    "thetas = np.arange(-100, 150)\n",
    "\n",
    "def f(theta):\n",
    "    #YOUR CODE HERE: function f\n",
    "    pass\n",
    "\n",
    "def compute_gradient(theta):\n",
    "    #YOUR CODE HERE: gradient of the function f\n",
    "    pass\n",
    "\n",
    "def update(theta, alpha, grad):\n",
    "    #YOUR CODE HERE: Gradient descent update\n",
    "    pass\n",
    "\n",
    "error = 1.0\n",
    "tolerance = 1e-5\n",
    "alpha = 0.3   #learning rate\n",
    "\n",
    "theta = 143\n",
    "iteration = 1\n",
    "max_iteration = 1000\n",
    "\n",
    "while error > tolerance and iteration < max_iteration:\n",
    "    val = f(theta)\n",
    "    plt.plot(theta, f(theta), 'o')\n",
    "    grad = compute_gradient(theta)\n",
    "    \n",
    "    theta = update(theta, alpha, grad)\n",
    "\n",
    "    error = np.sum(abs(grad))\n",
    "    \n",
    "    iteration = iteration + 1\n",
    "\n",
    "print('Theta that produces the smallest value', theta)\n",
    "\n",
    "plt.plot(thetas, f(thetas), '-')\n",
    "plt.xlabel('theta')\n",
    "plt.ylabel('f(theta)')\n",
    "\n",
    "plt.show()"
   ]
  },
  {
   "cell_type": "markdown",
   "metadata": {},
   "source": [
    "Linear Regression\n",
    "==========\n",
    "Load the data first"
   ]
  },
  {
   "cell_type": "code",
   "execution_count": 6,
   "metadata": {
    "collapsed": false
   },
   "outputs": [],
   "source": [
    "data = np.loadtxt(\"Linear_Regression.txt\")"
   ]
  },
  {
   "cell_type": "markdown",
   "metadata": {},
   "source": [
    "## Train\n"
   ]
  },
  {
   "cell_type": "code",
   "execution_count": null,
   "metadata": {
    "collapsed": false
   },
   "outputs": [],
   "source": [
    "shuffle = np.random.permutation(data.shape[0])\n",
    "\n",
    "portion = int(0.2 * len(data))\n",
    "\n",
    "#split into train and validation data\n",
    "test_x = data[shuffle[:portion], 0].reshape(-1, 1)\n",
    "test_y = data[shuffle[:portion], 1].reshape(-1, 1)\n",
    "\n",
    "train_x = data[shuffle[portion:], 0].reshape(-1, 1)\n",
    "train_y = data[shuffle[portion:], 1].reshape(-1, 1)\n",
    "\n",
    "#pad x with 1 at the beginning\n",
    "def pad(x):\n",
    "    return np.hstack((np.ones((x.shape[0], 1), dtype = x.dtype), x))\n",
    "\n",
    "def predict(theta, x):\n",
    "    #YOUR CODE HERE: Given input x and parameter theta, predict output\n",
    "    pass\n",
    "\n",
    "def compute_gradient(theta, x, y):\n",
    "    #YOUR CODE HERE: Radient of the loss function\n",
    "    pass\n",
    "\n",
    "\n",
    "theta = np.random.randn(2).reshape(2,1)\n",
    "\n",
    "alpha = 0.5\n",
    "tolerance = 1e-5\n",
    "\n",
    "# Perform Gradient Descent\n",
    "iterations = 1\n",
    "while True:\n",
    "    gradient, error = compute_gradient(theta, train_x, train_y)\n",
    "    new_theta = theta - alpha * gradient\n",
    "    \n",
    "    # Stopping Condition\n",
    "    if np.sum(abs(new_theta - theta)) < tolerance:\n",
    "        print(\"Converged.\")\n",
    "        break\n",
    "    \n",
    "    # Print error every 50 iterations\n",
    "    if iterations % 100 == 0:\n",
    "        print(\"Iteration: %d - Error: %.4f\" %(iterations, error))\n",
    "    \n",
    "    iterations += 1\n",
    "    theta = new_theta\n",
    "\n",
    "line_x = np.array([0, 100]).reshape([2,1])\n",
    "line_y = predict(theta, line_x)\n",
    "\n",
    "\n",
    "plt.plot(train_x, train_y, 'o')\n",
    "plt.plot(line_x, line_y, marker = 'o')\n",
    "\n",
    "plt.show()\n"
   ]
  },
  {
   "cell_type": "markdown",
   "metadata": {
    "collapsed": true
   },
   "source": [
    "## Validatation\n"
   ]
  },
  {
   "cell_type": "code",
   "execution_count": 10,
   "metadata": {
    "collapsed": false
   },
   "outputs": [
    {
     "data": {
      "image/png": "[encoded data removed]",
      "text/plain": [
       "<matplotlib.figure.Figure at 0x7f2d3ae17eb8>"
      ]
     },
     "metadata": {},
     "output_type": "display_data"
    }
   ],
   "source": [
    "test_y_hat = predict(theta, test_x)\n",
    "\n",
    "plt.plot(test_x, test_y, 'o')\n",
    "plt.plot(test_x, test_y_hat, 'x')\n",
    "plt.plot(line_x, line_y, marker = 'o')\n",
    "plt.show()"
   ]
  },
  {
   "cell_type": "code",
   "execution_count": null,
   "metadata": {
    "collapsed": true
   },
   "outputs": [],
   "source": []
  }
 ],
 "metadata": {
  "kernelspec": {
   "display_name": "Python 3",
   "language": "python",
   "name": "python3"
  },
  "language_info": {
   "codemirror_mode": {
    "name": "ipython",
    "version": 3
   },
   "file_extension": ".py",
   "mimetype": "text/x-python",
   "name": "python",
   "nbconvert_exporter": "python",
   "pygments_lexer": "ipython3",
   "version": "3.5.2"
  }
 },
 "nbformat": 4,
 "nbformat_minor": 0
}

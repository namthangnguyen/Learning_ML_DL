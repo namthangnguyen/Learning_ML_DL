{
 "cells": [
  {
   "cell_type": "markdown",
   "metadata": {
    "colab_type": "text",
    "id": "B8uc0QZWvb9G"
   },
   "source": [
    "**Ví dụ về phân lớp hoa Iris bằng NB**"
   ]
  },
  {
   "cell_type": "markdown",
   "metadata": {
    "colab_type": "text",
    "id": "pY9PYFjHvjrv"
   },
   "source": [
    "Import các thư viện cần thiết từ sklearn\n",
    "\n",
    "1.   datasets: chứa các tập dữ liệu\n",
    "2.   metrics: dùng để tính toán các độ đo\n",
    "3. GaussianNB: thư viện phân lớp với NB của sklearn\n",
    "\n"
   ]
  },
  {
   "cell_type": "code",
   "execution_count": 1,
   "metadata": {
    "colab": {},
    "colab_type": "code",
    "id": "Nf_lp_trWpL3"
   },
   "outputs": [],
   "source": [
    "# Gaussian Naive Bayes\n",
    "from sklearn import datasets\n",
    "from sklearn import metrics\n",
    "from sklearn.naive_bayes import GaussianNB"
   ]
  },
  {
   "cell_type": "markdown",
   "metadata": {
    "colab_type": "text",
    "id": "SrTJZowwwNhw"
   },
   "source": [
    "Load dữ liệu và hiển thị 6 ảnh đầu tiên"
   ]
  },
  {
   "cell_type": "code",
   "execution_count": 2,
   "metadata": {
    "colab": {
     "base_uri": "https://localhost:8080/",
     "height": 119
    },
    "colab_type": "code",
    "executionInfo": {
     "elapsed": 1326,
     "status": "ok",
     "timestamp": 1536201713742,
     "user": {
      "displayName": "Nguyen Minh-Tien",
      "photoUrl": "//lh3.googleusercontent.com/-yhO90KW_tl8/AAAAAAAAAAI/AAAAAAAABZU/ePgDYmZiwCk/s50-c-k-no/photo.jpg",
      "userId": "117108009012583044307"
     },
     "user_tz": -420
    },
    "id": "hjcaXE5pwSE2",
    "outputId": "5fcb147e-ae85-44b9-df46-4045004c2f38"
   },
   "outputs": [
    {
     "data": {
      "text/plain": [
       "array([[5.1, 3.5, 1.4, 0.2],\n",
       "       [4.9, 3. , 1.4, 0.2],\n",
       "       [4.7, 3.2, 1.3, 0.2],\n",
       "       [4.6, 3.1, 1.5, 0.2],\n",
       "       [5. , 3.6, 1.4, 0.2],\n",
       "       [5.4, 3.9, 1.7, 0.4]])"
      ]
     },
     "execution_count": 2,
     "metadata": {},
     "output_type": "execute_result"
    }
   ],
   "source": [
    "# load the iris datasets\n",
    "dataset = datasets.load_iris()\n",
    "dataset.data[0:6]"
   ]
  },
  {
   "cell_type": "markdown",
   "metadata": {
    "colab_type": "text",
    "id": "Zae-7yn5wvaR"
   },
   "source": [
    "In ra giá trị lớp chuẩn của 100 ảnh đầu tiên"
   ]
  },
  {
   "cell_type": "code",
   "execution_count": 3,
   "metadata": {
    "colab": {
     "base_uri": "https://localhost:8080/",
     "height": 68
    },
    "colab_type": "code",
    "executionInfo": {
     "elapsed": 784,
     "status": "ok",
     "timestamp": 1536202019542,
     "user": {
      "displayName": "Nguyen Minh-Tien",
      "photoUrl": "//lh3.googleusercontent.com/-yhO90KW_tl8/AAAAAAAAAAI/AAAAAAAABZU/ePgDYmZiwCk/s50-c-k-no/photo.jpg",
      "userId": "117108009012583044307"
     },
     "user_tz": -420
    },
    "id": "iwFYIQRyw6f0",
    "outputId": "7889f6b4-3847-45ba-8882-091ed20f0faa"
   },
   "outputs": [
    {
     "name": "stdout",
     "output_type": "stream",
     "text": [
      "[0 0 0 0 0 0 0 0 0 0 0 0 0 0 0 0 0 0 0 0 0 0 0 0 0 0 0 0 0 0 0 0 0 0 0 0 0\n",
      " 0 0 0 0 0 0 0 0 0 0 0 0 0 1 1 1 1 1 1 1 1 1 1 1 1 1 1 1 1 1 1 1 1 1 1 1 1\n",
      " 1 1 1 1 1 1 1 1 1 1 1 1 1 1 1 1 1 1 1 1 1 1 1 1 1 1]\n"
     ]
    }
   ],
   "source": [
    "expected = dataset.target[0:100]\n",
    "print(expected)"
   ]
  },
  {
   "cell_type": "markdown",
   "metadata": {
    "colab_type": "text",
    "id": "JcR-E16TxFPZ"
   },
   "source": [
    "Fit dữ liệu vào mô hình và huấn luyện mô hình"
   ]
  },
  {
   "cell_type": "code",
   "execution_count": 4,
   "metadata": {
    "colab": {
     "base_uri": "https://localhost:8080/",
     "height": 34
    },
    "colab_type": "code",
    "executionInfo": {
     "elapsed": 874,
     "status": "ok",
     "timestamp": 1536201909113,
     "user": {
      "displayName": "Nguyen Minh-Tien",
      "photoUrl": "//lh3.googleusercontent.com/-yhO90KW_tl8/AAAAAAAAAAI/AAAAAAAABZU/ePgDYmZiwCk/s50-c-k-no/photo.jpg",
      "userId": "117108009012583044307"
     },
     "user_tz": -420
    },
    "id": "jhN2oQZTW4QM",
    "outputId": "c7a2f275-add2-4c10-e8a8-d2c72c7e86e6"
   },
   "outputs": [
    {
     "name": "stdout",
     "output_type": "stream",
     "text": [
      "GaussianNB(priors=None, var_smoothing=1e-09)\n"
     ]
    }
   ],
   "source": [
    "# fit a Naive Bayes model to the data\n",
    "model = GaussianNB()\n",
    "model.fit(dataset.data, dataset.target)\n",
    "print(model)"
   ]
  },
  {
   "cell_type": "markdown",
   "metadata": {
    "colab_type": "text",
    "id": "i6Xe4bAZxPhf"
   },
   "source": [
    "Dự đoán"
   ]
  },
  {
   "cell_type": "code",
   "execution_count": 5,
   "metadata": {
    "colab": {
     "base_uri": "https://localhost:8080/",
     "height": 323
    },
    "colab_type": "code",
    "executionInfo": {
     "elapsed": 832,
     "status": "ok",
     "timestamp": 1536202067585,
     "user": {
      "displayName": "Nguyen Minh-Tien",
      "photoUrl": "//lh3.googleusercontent.com/-yhO90KW_tl8/AAAAAAAAAAI/AAAAAAAABZU/ePgDYmZiwCk/s50-c-k-no/photo.jpg",
      "userId": "117108009012583044307"
     },
     "user_tz": -420
    },
    "id": "BAexJKqdW8tl",
    "outputId": "f7798c69-6e24-4c5f-9622-d2f52ad1c0bf"
   },
   "outputs": [
    {
     "name": "stdout",
     "output_type": "stream",
     "text": [
      "[0 0 0 0 0 0 0 0 0 0 0 0 0 0 0 0 0 0 0 0 0 0 0 0 0 0 0 0 0 0 0 0 0 0 0 0 0\n",
      " 0 0 0 0 0 0 0 0 0 0 0 0 0 1 1 1 1 1 1 1 1 1 1 1 1 1 1 1 1 1 1 1 1 1 1 1 1\n",
      " 1 1 1 1 1 1 1 1 1 1 1 1 1 1 1 1 1 1 1 1 1 1 1 1 1 1 2 2 2 2 2 2 2 2 2 2 2\n",
      " 2 2 2 2 2 2 2 2 2 2 2 2 2 2 2 2 2 2 2 2 2 2 2 2 2 2 2 2 2 2 2 2 2 2 2 2 2\n",
      " 2 2]\n",
      "[0 0 0 0 0 0 0 0 0 0 0 0 0 0 0 0 0 0 0 0 0 0 0 0 0 0 0 0 0 0 0 0 0 0 0 0 0\n",
      " 0 0 0 0 0 0 0 0 0 0 0 0 0 1 1 2 1 1 1 1 1 1 1 1 1 1 1 1 1 1 1 1 1 2 1 1 1\n",
      " 1 1 1 2 1 1 1 1 1 1 1 1 1 1 1 1 1 1 1 1 1 1 1 1 1 1 2 2 2 2 2 2 1 2 2 2 2\n",
      " 2 2 2 2 2 2 2 2 1 2 2 2 2 2 2 2 2 2 2 2 2 2 1 2 2 2 2 2 2 2 2 2 2 2 2 2 2\n",
      " 2 2]\n",
      "              precision    recall  f1-score   support\n",
      "\n",
      "           0       1.00      1.00      1.00        50\n",
      "           1       0.94      0.94      0.94        50\n",
      "           2       0.94      0.94      0.94        50\n",
      "\n",
      "   micro avg       0.96      0.96      0.96       150\n",
      "   macro avg       0.96      0.96      0.96       150\n",
      "weighted avg       0.96      0.96      0.96       150\n",
      "\n"
     ]
    }
   ],
   "source": [
    "# make predictions\n",
    "expected = dataset.target\n",
    "print(expected)\n",
    "\n",
    "predicted = model.predict(dataset.data)\n",
    "print(predicted)\n",
    "\n",
    "# summarize the fit of the model\n",
    "print(metrics.classification_report(expected, predicted))"
   ]
  },
  {
   "cell_type": "markdown",
   "metadata": {
    "colab_type": "text",
    "id": "mPioYyWGxshz"
   },
   "source": [
    "In ra ma trận nhập nhằng (confusion matrix)"
   ]
  },
  {
   "cell_type": "code",
   "execution_count": 6,
   "metadata": {
    "colab": {
     "base_uri": "https://localhost:8080/",
     "height": 68
    },
    "colab_type": "code",
    "executionInfo": {
     "elapsed": 792,
     "status": "ok",
     "timestamp": 1536202071857,
     "user": {
      "displayName": "Nguyen Minh-Tien",
      "photoUrl": "//lh3.googleusercontent.com/-yhO90KW_tl8/AAAAAAAAAAI/AAAAAAAABZU/ePgDYmZiwCk/s50-c-k-no/photo.jpg",
      "userId": "117108009012583044307"
     },
     "user_tz": -420
    },
    "id": "iRbk1xRAXCku",
    "outputId": "6d5bccab-36b7-4952-ffb9-5bf1796c3a3d"
   },
   "outputs": [
    {
     "name": "stdout",
     "output_type": "stream",
     "text": [
      "[[50  0  0]\n",
      " [ 0 47  3]\n",
      " [ 0  3 47]]\n"
     ]
    }
   ],
   "source": [
    "print(metrics.confusion_matrix(expected, predicted))"
   ]
  }
 ],
 "metadata": {
  "colab": {
   "collapsed_sections": [],
   "name": "NB_Iris_ex.ipynb",
   "provenance": [],
   "version": "0.3.2"
  },
  "kernelspec": {
   "display_name": "Python 3",
   "language": "python",
   "name": "python3"
  },
  "language_info": {
   "codemirror_mode": {
    "name": "ipython",
    "version": 3
   },
   "file_extension": ".py",
   "mimetype": "text/x-python",
   "name": "python",
   "nbconvert_exporter": "python",
   "pygments_lexer": "ipython3",
   "version": "3.6.8"
  }
 },
 "nbformat": 4,
 "nbformat_minor": 1
}

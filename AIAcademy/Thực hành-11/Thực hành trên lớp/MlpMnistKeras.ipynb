{
 "cells": [
  {
   "cell_type": "markdown",
   "metadata": {},
   "source": [
    "# Ví dụ về Multilayer Perceptron với tập MNIST\n",
    "Xây dựng mạng fully connected với 2 lớp ẩn sử dụng Keras"
   ]
  },
  {
   "cell_type": "markdown",
   "metadata": {},
   "source": [
    "## Tổng quan về Neural Network\n",
    "\n",
    "<img src=\"http://cs231n.github.io/assets/nn1/neural_net2.jpeg\" alt=\"nn\" style=\"width: 400px;\"/>\n",
    "\n",
    "## Tập dữ liệu MNIST\n",
    "\n",
    "Ví dụ này sử dụng tập ảnh chữ số viết tay MNIST. MNIST gồm 60,000 ảnh cho huấn luyện và 10,000 ảnh cho kiểm thử mô hình. Mọi ảnh chữ số viết tay trong tập dữ liệu được chuẩn hóa về kích thước, cụ thể là (28x28) với giá trị pixels nằm trong khoảng 0 đến 1. Để đơn giản bài troán, mỗi ảnh được trải phẳng thành mảng numpy một chiều (784 thành phần)\n",
    "\n",
    "![MNIST Dataset](http://neuralnetworksanddeeplearning.com/images/mnist_100_digits.png)\n",
    "\n",
    "Tham khảo: http://yann.lecun.com/exdb/mnist/"
   ]
  },
  {
   "cell_type": "code",
   "execution_count": 4,
   "metadata": {},
   "outputs": [],
   "source": [
    "import keras\n",
    "from keras.models import Sequential\n",
    "from keras.layers import Dense, Dropout, Flatten\n",
    "from keras import backend as K\n",
    "from keras.models import model_from_json\n",
    "from sklearn.model_selection import train_test_split\n",
    "\n",
    "import numpy as np\n",
    "import matplotlib.pyplot as plt\n",
    "import os\n",
    "import cv2"
   ]
  },
  {
   "cell_type": "markdown",
   "metadata": {},
   "source": [
    "## Lập trình mạng nơ-ron với Keras\n",
    "\n",
    "Thư viện Keras hỗ trợ lập trình mạng nơ-ron rất dễ dàng. Dễ dàng thêm các layer bằng cách sử dụng các đối tượng như Dense(), Dropout(),... \n",
    "\n",
    "Xem thêm các hàm cơ bản xây dựng mạng nơ-ron: https://keras.io/layers/core/\n",
    "\n",
    "Hàm dưới đây xây dựng một mạng nơ-ron Sequantial model của Keras với đầu vào là kích thước ảnh sau khi duỗi về 1D, số lượng lớp (ở đây là 10). Đầu ra là model mạng cho bài toán MNIST."
   ]
  },
  {
   "cell_type": "code",
   "execution_count": 19,
   "metadata": {},
   "outputs": [],
   "source": [
    "def mnist_mlp(img_shape=(784,), num_classes=10):\n",
    "    model = Sequential()\n",
    "    \n",
    "    model.add(Dense(256, activation='relu', input_shape=img_shape))\n",
    "    \n",
    "    # model.add(Dropout(0.2))\n",
    "    \n",
    "    model.add(Dense(256, activation='relu'))\n",
    "    \n",
    "    # model.add(Dropout(0.2))\n",
    "    \n",
    "    model.add(Dense(num_classes, activation='softmax'))\n",
    "    \n",
    "    return model"
   ]
  },
  {
   "cell_type": "markdown",
   "metadata": {},
   "source": [
    "Ta có thể dùng hàm summary() để xem lại tổng quát cấu trúc mạng vừa xây dựng, số lượng tham số..."
   ]
  },
  {
   "cell_type": "code",
   "execution_count": 20,
   "metadata": {},
   "outputs": [
    {
     "name": "stdout",
     "output_type": "stream",
     "text": [
      "_________________________________________________________________\n",
      "Layer (type)                 Output Shape              Param #   \n",
      "=================================================================\n",
      "dense_7 (Dense)              (None, 256)               200960    \n",
      "_________________________________________________________________\n",
      "dense_8 (Dense)              (None, 256)               65792     \n",
      "_________________________________________________________________\n",
      "dense_9 (Dense)              (None, 10)                2570      \n",
      "=================================================================\n",
      "Total params: 269,322\n",
      "Trainable params: 269,322\n",
      "Non-trainable params: 0\n",
      "_________________________________________________________________\n"
     ]
    }
   ],
   "source": [
    "model = mnist_mlp()\n",
    "model.summary()"
   ]
  },
  {
   "cell_type": "markdown",
   "metadata": {},
   "source": [
    "### Tải về dữ liệu MNIST"
   ]
  },
  {
   "cell_type": "code",
   "execution_count": 16,
   "metadata": {},
   "outputs": [],
   "source": [
    "import tensorflow as tf\n",
    "\n",
    "# Import MNIST data\n",
    "mnist = tf.keras.datasets.mnist\n",
    "(x_train, y_train),(x_test, y_test) = mnist.load_data()"
   ]
  },
  {
   "cell_type": "markdown",
   "metadata": {},
   "source": [
    "### Tiếp theo ta sẽ tiến hành huấn luyện mạng nơ-ron cơ bản.\n",
    "\n",
    "Đối với mạng nơ-ron cơ bản, đầu vào sẽ là một tầng layer 1D, vì thế ta cần duỗi ảnh từ 2D về 1D ((28,28) -> (784,)).\n",
    "\n",
    "Nhãn y_train và y_test được chuyển về dạng one-hot vector để tiện huấn luyện."
   ]
  },
  {
   "cell_type": "code",
   "execution_count": 12,
   "metadata": {},
   "outputs": [
    {
     "name": "stdout",
     "output_type": "stream",
     "text": [
      "(60000, 28, 28)\n",
      "(10000, 28, 28)\n",
      "(60000, 10)\n",
      "(10000, 10)\n"
     ]
    }
   ],
   "source": [
    "x_train = x_train/255\n",
    "x_test = x_test/255\n",
    "\n",
    "# one hot\n",
    "num_classes = 10 # Tổng số lớp của MNIST (các số từ 0-9)\n",
    "\n",
    "y_train = keras.utils.to_categorical(y_train, num_classes)\n",
    "y_test = keras.utils.to_categorical(y_test, num_classes)\n",
    "\n",
    "print(x_train.shape)\n",
    "print(x_test.shape)\n",
    "print(y_train.shape)\n",
    "print(y_test.shape)"
   ]
  },
  {
   "cell_type": "code",
   "execution_count": 17,
   "metadata": {},
   "outputs": [
    {
     "name": "stdout",
     "output_type": "stream",
     "text": [
      "60000 train samples\n",
      "10000 test samples\n",
      "categorical y_train:  (20400, 10)\n",
      "categorical y_test :  (10000, 10)\n"
     ]
    }
   ],
   "source": [
    "num_classes = 10\n",
    "\n",
    "x_train = x_train.reshape(60000, 784)\n",
    "x_test = x_test.reshape(10000, 784)\n",
    "x_train = x_train.astype('float32')\n",
    "x_test = x_test.astype('float32')\n",
    "x_train /= 255\n",
    "x_test /= 255\n",
    "print(x_train.shape[0], 'train samples')\n",
    "print(x_test.shape[0], 'test samples')\n",
    "\n",
    "x_train, x_test_new, y_train, y_test_new = train_test_split(x_train, y_train, test_size=0.66, random_state=42)\n",
    "\n",
    "# convert class vectors to binary class matrices\n",
    "y_train = keras.utils.to_categorical(y_train, num_classes)\n",
    "y_test = keras.utils.to_categorical(y_test, num_classes)\n",
    "print('categorical y_train: ', y_train.shape)\n",
    "print('categorical y_test : ', y_test.shape)"
   ]
  },
  {
   "cell_type": "markdown",
   "metadata": {},
   "source": [
    "Trong Keras ta sử dụng hàm compile để thiết lập các tham số huấn luyện cho mạng:\n",
    "- loss: hàm mất mát - https://keras.io/losses/\n",
    "- optimizer: phương pháp tối ưu - https://keras.io/optimizers/\n",
    "- metrics: phương pháp đánh giá mô hình - https://keras.io/metrics/\n",
    "- ...\n",
    "\n",
    "Sau khi compile thì ta dùng hàm fit để truyền data vào huấn luyện. Một số tham số cần quan tâm:\n",
    "- batch_size: kích thước batch khi train\n",
    "- epochs: số lượng lượt train\n",
    "- validation_data: data cho validation nếu có\n",
    "- ...\n",
    "\n",
    "Dưới đây ta sẽ thử huấn luyện mạng"
   ]
  },
  {
   "cell_type": "markdown",
   "metadata": {},
   "source": [
    "### Siêu tham số"
   ]
  },
  {
   "cell_type": "code",
   "execution_count": 13,
   "metadata": {},
   "outputs": [],
   "source": [
    "learning_rate = 0.1\n",
    "num_epoch = 10\n",
    "batch_size = 128"
   ]
  },
  {
   "cell_type": "markdown",
   "metadata": {},
   "source": [
    "## Xây dựng mô hình"
   ]
  },
  {
   "cell_type": "code",
   "execution_count": 23,
   "metadata": {},
   "outputs": [
    {
     "name": "stdout",
     "output_type": "stream",
     "text": [
      "Train on 20400 samples, validate on 10000 samples\n",
      "Epoch 1/10\n",
      "20400/20400 [==============================] - 2s 75us/step - loss: 0.6540 - acc: 0.8243 - val_loss: 0.3797 - val_acc: 0.8797\n",
      "Epoch 2/10\n",
      "20400/20400 [==============================] - 1s 66us/step - loss: 0.3092 - acc: 0.9098 - val_loss: 0.2653 - val_acc: 0.9234\n",
      "Epoch 3/10\n",
      "20400/20400 [==============================] - 1s 63us/step - loss: 0.2467 - acc: 0.9270 - val_loss: 0.2433 - val_acc: 0.9267\n",
      "Epoch 4/10\n",
      "20400/20400 [==============================] - 1s 60us/step - loss: 0.2082 - acc: 0.9386 - val_loss: 0.2119 - val_acc: 0.9371\n",
      "Epoch 5/10\n",
      "20400/20400 [==============================] - 1s 60us/step - loss: 0.1788 - acc: 0.9478 - val_loss: 0.1890 - val_acc: 0.9415\n",
      "Epoch 6/10\n",
      "20400/20400 [==============================] - 1s 60us/step - loss: 0.1585 - acc: 0.9536 - val_loss: 0.1794 - val_acc: 0.9460\n",
      "Epoch 7/10\n",
      "20400/20400 [==============================] - 1s 60us/step - loss: 0.1396 - acc: 0.9601 - val_loss: 0.1671 - val_acc: 0.9476\n",
      "Epoch 8/10\n",
      "20400/20400 [==============================] - 1s 61us/step - loss: 0.1222 - acc: 0.9649 - val_loss: 0.1526 - val_acc: 0.9540\n",
      "Epoch 9/10\n",
      "20400/20400 [==============================] - 1s 65us/step - loss: 0.1094 - acc: 0.9675 - val_loss: 0.2089 - val_acc: 0.9377\n",
      "Epoch 10/10\n",
      "20400/20400 [==============================] - 1s 63us/step - loss: 0.0983 - acc: 0.9721 - val_loss: 0.1409 - val_acc: 0.9573\n"
     ]
    }
   ],
   "source": [
    "model.compile(loss='categorical_crossentropy',\n",
    "              optimizer=keras.optimizers.SGD(lr=learning_rate),\n",
    "              metrics=['accuracy'])\n",
    "\n",
    "history = model.fit(x_train, y_train,\n",
    "                    batch_size=batch_size,\n",
    "                    epochs=num_epoch,\n",
    "                    verbose=1,\n",
    "                    validation_data=(x_test, y_test))"
   ]
  },
  {
   "cell_type": "markdown",
   "metadata": {},
   "source": [
    "### Vẽ đồ thị kết quả quá trình huấn luyện"
   ]
  },
  {
   "cell_type": "code",
   "execution_count": 26,
   "metadata": {},
   "outputs": [
    {
     "name": "stdout",
     "output_type": "stream",
     "text": [
      "dict_keys(['loss', 'val_loss', 'acc', 'val_acc'])\n"
     ]
    }
   ],
   "source": [
    "print(history.history.keys())"
   ]
  },
  {
   "cell_type": "code",
   "execution_count": 27,
   "metadata": {},
   "outputs": [
    {
     "data": {
      "image/png": "[encoded data removed]",
      "text/plain": [
       "<Figure size 432x288 with 1 Axes>"
      ]
     },
     "metadata": {},
     "output_type": "display_data"
    },
    {
     "data": {
      "image/png": "[encoded data removed]",
      "text/plain": [
       "<Figure size 432x288 with 1 Axes>"
      ]
     },
     "metadata": {},
     "output_type": "display_data"
    }
   ],
   "source": [
    "# summarize history for accuracy\n",
    "plt.plot(history.history['acc'])\n",
    "plt.plot(history.history['val_acc'])\n",
    "plt.title('model accuracy')\n",
    "plt.ylabel('accuracy')\n",
    "plt.xlabel('epoch')\n",
    "plt.legend(['train', 'test'], loc='upper left')\n",
    "plt.show()\n",
    "# summarize history for loss\n",
    "plt.plot(history.history['loss'])\n",
    "plt.plot(history.history['val_loss'])\n",
    "plt.title('model loss')\n",
    "plt.ylabel('loss')\n",
    "plt.xlabel('epoch')\n",
    "plt.legend(['train', 'test'], loc='upper left')\n",
    "plt.show()"
   ]
  },
  {
   "cell_type": "markdown",
   "metadata": {},
   "source": [
    "### Kiểm thử mô hình"
   ]
  },
  {
   "cell_type": "code",
   "execution_count": 29,
   "metadata": {},
   "outputs": [
    {
     "name": "stdout",
     "output_type": "stream",
     "text": [
      "Test loss: 0.11802714076871053\n",
      "Test accuracy: 0.9642\n"
     ]
    }
   ],
   "source": [
    "score = mlp.evaluate(x_test, y_test, verbose=0)\n",
    "print('Test loss:', score[0])\n",
    "print('Test accuracy:', score[1])"
   ]
  },
  {
   "cell_type": "markdown",
   "metadata": {},
   "source": [
    "### Như vậy model mạng nơ-ron cơ bản đạt độ chính xác khoảng 97.88%. Ta có thể lưu lại mô hình đã huấn luyện để sử dụng sau này:"
   ]
  },
  {
   "cell_type": "code",
   "execution_count": 31,
   "metadata": {},
   "outputs": [
    {
     "name": "stdout",
     "output_type": "stream",
     "text": [
      "_________________________________________________________________\n",
      "Layer (type)                 Output Shape              Param #   \n",
      "=================================================================\n",
      "dense_7 (Dense)              (None, 256)               200960    \n",
      "_________________________________________________________________\n",
      "dense_8 (Dense)              (None, 256)               65792     \n",
      "_________________________________________________________________\n",
      "dense_9 (Dense)              (None, 10)                2570      \n",
      "=================================================================\n",
      "Total params: 269,322\n",
      "Trainable params: 269,322\n",
      "Non-trainable params: 0\n",
      "_________________________________________________________________\n",
      "10000/10000 [==============================] - 1s 65us/step\n",
      "Test loss: 0.14085396547317505\n",
      "Test accuracy: 0.9573\n"
     ]
    }
   ],
   "source": [
    "# Save architecture and weight\n",
    "with open('mnist_mlp.json', 'w') as f:\n",
    "    f.write(model.to_json())\n",
    "model.save_weights(\"mnist_mlp_weight.h5\")\n",
    "\n",
    "# Load trained model\n",
    "json_file = open('mnist_mlp.json', 'r')\n",
    "loaded_model_json = json_file.read()\n",
    "json_file.close()\n",
    "loaded_model = model_from_json(loaded_model_json)\n",
    "\n",
    "loaded_model.load_weights(\"mnist_mlp_weight.h5\")\n",
    "loaded_model.summary()\n",
    "\n",
    "# Re-compile and evaluate model\n",
    "loaded_model.compile(optimizer=keras.optimizers.RMSprop(), loss='categorical_crossentropy', metrics=['accuracy'])\n",
    "score = loaded_model.evaluate(x_test, y_test)\n",
    "print('Test loss:', score[0])\n",
    "print('Test accuracy:', score[1])"
   ]
  },
  {
   "cell_type": "markdown",
   "metadata": {},
   "source": [
    "### Dự đoán một vài điểm dữ liệu"
   ]
  },
  {
   "cell_type": "code",
   "execution_count": 32,
   "metadata": {},
   "outputs": [
    {
     "data": {
      "text/plain": [
       "<matplotlib.image.AxesImage at 0x7eff1bfa69e8>"
      ]
     },
     "execution_count": 32,
     "metadata": {},
     "output_type": "execute_result"
    },
    {
     "data": {
      "image/png": "[encoded data removed]",
      "text/plain": [
       "<Figure size 432x288 with 1 Axes>"
      ]
     },
     "metadata": {},
     "output_type": "display_data"
    }
   ],
   "source": [
    "plt.imshow(x_test[30].reshape(28,28), cmap='gray')"
   ]
  },
  {
   "cell_type": "code",
   "execution_count": 33,
   "metadata": {},
   "outputs": [
    {
     "name": "stdout",
     "output_type": "stream",
     "text": [
      "[[2.0126616e-10 2.5171842e-09 4.7703186e-10 9.9992394e-01 3.1966093e-11\n",
      "  1.0550242e-05 1.1721169e-12 3.2754343e-07 7.5748794e-08 6.5059525e-05]]\n"
     ]
    }
   ],
   "source": [
    "result = mlp.predict(x_test[30].reshape((1,784)))\n",
    "print(result)"
   ]
  },
  {
   "cell_type": "code",
   "execution_count": 34,
   "metadata": {},
   "outputs": [
    {
     "data": {
      "text/plain": [
       "3"
      ]
     },
     "execution_count": 34,
     "metadata": {},
     "output_type": "execute_result"
    }
   ],
   "source": [
    "np.argmax(result)"
   ]
  }
 ],
 "metadata": {
  "kernelspec": {
   "display_name": "Python 3",
   "language": "python",
   "name": "python3"
  },
  "language_info": {
   "codemirror_mode": {
    "name": "ipython",
    "version": 3
   },
   "file_extension": ".py",
   "mimetype": "text/x-python",
   "name": "python",
   "nbconvert_exporter": "python",
   "pygments_lexer": "ipython3",
   "version": "3.7.5"
  }
 },
 "nbformat": 4,
 "nbformat_minor": 2
}

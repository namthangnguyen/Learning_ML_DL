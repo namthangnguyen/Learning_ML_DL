{
 "cells": [
  {
   "cell_type": "markdown",
   "metadata": {
    "colab_type": "text",
    "id": "xWrg-x518asP"
   },
   "source": [
    "Dữ liệu trong ví dụ này được lấy trong [Exercise 6: Naive Bayes - Machine Learning - Andrew Ng](http://openclassroom.stanford.edu/MainFolder/DocumentPage.php?course=MachineLearning&doc=exercises/ex6/ex6.html).\n",
    "\n",
    "Trong ví dụ này, dữ liệu đã được xử lý, và là một tập con của cơ sở dữ liệu [Ling-Spam Dataset](http://csmining.org/index.php/ling-spam-datasets.html. \n",
    "\n",
    "#### Mô tả dữ liệu \n",
    "Tập dữ liệu này bao gồm tổng cộng 960 emails tiếng Anh, được tách thành tập training và test theo tỉ lệ 700:260, 50% trong mỗi tập là các spam emails. \n",
    "\n",
    "Dữ liệu trong cơ sở dữ liệu này đã được xử lý khá đẹp. Các quy tắc xử lý như sau: \n",
    "\n",
    "1. **Loại bỏ _stop words_**: Những từ xuất hiện thường xuyên trong bất kỳ văn bản nào như 'and', 'the', 'of', ... được loại bỏ. \n",
    "\n",
    "2. **Lemmatization**: Những từ có cùng 'gốc' được đưa về cùng loại. Ví dụ, 'include', 'includes', 'included' đều được đưa chung về 'include'. Tất cả các từ cũng đã được đưa về dạng ký tự thường (không phải HOA). \n",
    "\n",
    "3. **Loại bỏ _non-words_**: Số, dấu câu, ký tự 'tabs', ký tự 'xuống dòng' đã được loại bỏ. \n",
    "\n",
    "Dưới đây là một ví dụ của 1 email không phải spam, **trước khi được xử lý**:\n",
    "```\n",
    "Subject: Re: 5.1344 Native speaker intuitions\n",
    "  \n",
    "The discussion on native speaker intuitions has been extremely interesting, but I worry that my brief intervention may have\n",
    "muddied the waters. I take it that there are a number of\n",
    "separable issues. The first is the extent to which a native\n",
    "speaker is likely to judge a lexical string as grammatical\n",
    "or ungrammatical per se. The second is concerned with the\n",
    "relationships between syntax and interpretation (although even\n",
    "here the distinction may not be entirely clear cut).\n",
    "```\n",
    "\n",
    "và **sau khi được xử lý**:\n",
    "```\n",
    "re native speaker intuition discussion native speaker intuition \n",
    "extremely interest worry brief intervention muddy waters number \n",
    "separable issue first extent native speaker likely judge lexical \n",
    "string grammatical ungrammatical per se second concern relationship \n",
    "between syntax interpretation although even here distinction entirely clear cut\n",
    "```\n",
    "\n",
    "Và đây là một ví dụ về **spam email sau khi được xử lý**:\n",
    "```\n",
    "financial freedom follow financial freedom work ethic extraordinary desire earn least per month work home special skills experience required train personal support need ensure success legitimate homebased income opportunity put back control finance life ve try opportunity past fail live promise \n",
    "```\n",
    "Chúng ta thấy rằng trong đoạn này có các từ như: financial, extraordinary, earn, opportunity, … là những từ thường thấy trong các email spam.\n",
    "\n",
    "Trong ví dụ này, chúng ta sẽ sử dụng Multinomial Naive Bayes.\n",
    "\n",
    "Để cho bài toán được đơn giản hơn, tôi tiếp tục sử dụng dữ liệu đã được xử lý, có thể được download ở đây: [ex6DataPrepared.zip](http://openclassroom.stanford.edu/MainFolder/courses/MachineLearning/exercises/ex6materials/ex6DataPrepared.zip). Trong folder sau khi giải nén, chúng ta sẽ thấy các files:\n",
    "```\n",
    "test-features.txt\n",
    "test-labels.txt\n",
    "train-features-50.txt\n",
    "train-features-100.txt\n",
    "train-features-400.txt\n",
    "train-features.txt\n",
    "train-labels-50.txt\n",
    "train-labels-100.txt\n",
    "train-labels-400.txt\n",
    "train-labels.txt\n",
    "```\n",
    "\n",
    "tương ứng với các file chứa dữ liệu của tập training và tập test. File `train-features-50.txt` chứa dữ liệu của tập training thu gọn với chỉ có tổng 50 training emails. \n",
    "\n",
    "Mỗi file `*labels*.txt` chứa nhiều dòng, mỗi dòng là một ký tự 0 hoặc 1 thể hiện email là _non-spam_ hoặc _spam_.\n",
    "\n",
    "Mỗi file `*features*.txt` chứa nhiều dòng, mỗi dòng có 3 số, ví dụ: \n",
    "\n",
    "```\n",
    "1 564 1\n",
    "1 19 2\n",
    "```\n",
    "trong đó số đầu tiên là chỉ số của email, bắt đầu từ 1; số thứ 2 là thứ tự của từ trong từ điển (tổng cộng 2500 từ); số thứ 3 là số lượng của từ đó trong email đang xét. Dòng đầu tiên nói rằng trong email thứ nhất, từ thứ 564 trong từ điển xuất hiện 1 lần. Cách lưu dữ liệu như thế này giúp tiết kiệm bộ nhớ vì 1 email thường không chứa hết tất cả các từ trong từ điển mà chỉ chứa một lượng nhỏ, ta chỉ cần lưu các giá trị khác không. \n",
    "\n",
    "Nếu ta biểu diễn feature vector của mỗi email là 1 vector hàng có độ dài bằng độ dài từ điển (2500) thì dòng thứ nhất nói rằng thành phần thứ 564 của vector này bằng 1. Tương tự, thành phần thứ 19 của vector này bằng 1. Nếu không xuất hiện, các thành phần khác được mặc định bằng 0. \n",
    "\n",
    "Dựa trên các thông tin này, chúng ta có thể tiến hành lập trình với thư viện sklearn.\n",
    "\n",
    "**Khai báo thư viện và đường dẫn tới file**"
   ]
  },
  {
   "cell_type": "code",
   "execution_count": 1,
   "metadata": {
    "colab": {},
    "colab_type": "code",
    "id": "ni1F0-IT8asR"
   },
   "outputs": [],
   "source": [
    "## packages \n",
    "from __future__ import division, print_function, unicode_literals\n",
    "import numpy as np\n",
    "from scipy.sparse import coo_matrix # for sparse matrix\n",
    "from sklearn.naive_bayes import MultinomialNB, BernoulliNB\n",
    "from sklearn.metrics import accuracy_score # for evaluating results\n",
    "\n",
    "# data path and file name \n",
    "path = 'ex6DataPrepared/'\n",
    "train_data_fn = 'train-features.txt'\n",
    "test_data_fn = 'test-features.txt'\n",
    "train_label_fn = 'train-labels.txt'\n",
    "test_label_fn = 'test-labels.txt'"
   ]
  },
  {
   "cell_type": "markdown",
   "metadata": {
    "colab_type": "text",
    "id": "YAzEXFAa8asZ"
   },
   "source": [
    "Hàm số đọc dữ liệu từ file `data_fn` với labels tương ứng `label_fn`. Chú ý rằng [số lượng từ trong từ điển là 2500](http://openclassroom.stanford.edu/MainFolder/DocumentPage.php?course=MachineLearning&doc=exercises/ex6/ex6.html).\n",
    "\n",
    "Dữ liệu sẽ được lưu trong một ma trận mà mỗi hàng thể hiện một email. Ma trận này là ma trận sparse nên chúng ta sẽ sử dụng hàm [`scipy.sparse.coo_matrix`](https://docs.scipy.org/doc/scipy/reference/generated/scipy.sparse.coo_matrix.html)."
   ]
  },
  {
   "cell_type": "code",
   "execution_count": 2,
   "metadata": {
    "colab": {},
    "colab_type": "code",
    "id": "sOrP7o8T8asa"
   },
   "outputs": [],
   "source": [
    "nwords = 2500 \n",
    "\n",
    "def read_data(data_fn, label_fn):\n",
    "    ## read label_fn\n",
    "    with open(path + label_fn) as f:\n",
    "        content = f.readlines()\n",
    "    label = [int(x.strip()) for x in content]\n",
    "\n",
    "    ## read data_fn\n",
    "    with open(path + data_fn) as f:\n",
    "        content = f.readlines()\n",
    "    # remove '\\n' at the end of each line\n",
    "    content = [x.strip() for x in content] \n",
    "\n",
    "    dat = np.zeros((len(content), 3), dtype = int)\n",
    "    \n",
    "    for i, line in enumerate(content): \n",
    "        a = line.split(' ')\n",
    "        dat[i, :] = np.array([int(a[0]), int(a[1]), int(a[2])])\n",
    "    \n",
    "    # remember to -1 at coordinate since we're in Python\n",
    "    # check this: https://docs.scipy.org/doc/scipy/reference/generated/scipy.sparse.coo_matrix.html\n",
    "    # for more information about coo_matrix function \n",
    "    data = coo_matrix((dat[:, 2], (dat[:, 0] - 1, dat[:, 1] - 1)), shape=(len(label), nwords))\n",
    "    return (data, label)"
   ]
  },
  {
   "cell_type": "markdown",
   "metadata": {
    "colab_type": "text",
    "id": "3XBr-e1y8asd"
   },
   "source": [
    "Đọc training data và test data, sử dụng class `MultinomialNB` trong sklearn để xây dựng mô hình và dự đoán đầu ra cho test data."
   ]
  },
  {
   "cell_type": "code",
   "execution_count": 9,
   "metadata": {
    "colab": {},
    "colab_type": "code",
    "id": "hn3Tk8Xe8ase",
    "outputId": "7c02f15e-1fa8-4767-f6e4-f9588b653f31"
   },
   "outputs": [
    {
     "name": "stdout",
     "output_type": "stream",
     "text": [
      "Training size = 50, accuracy = 97.31%\n"
     ]
    }
   ],
   "source": [
    "(train_data, train_label)  = read_data(train_data_fn, train_label_fn)\n",
    "(test_data, test_label)  = read_data(test_data_fn, test_label_fn)\n",
    "\n",
    "clf = MultinomialNB()\n",
    "clf.fit(train_data, train_label)\n",
    "\n",
    "y_pred = clf.predict(test_data)\n",
    "print('Training size = %d, accuracy = %.2f%%' % \\\n",
    "      (train_data.shape[0],accuracy_score(test_label, y_pred)*100))"
   ]
  },
  {
   "cell_type": "markdown",
   "metadata": {
    "colab_type": "text",
    "id": "9yjgOhnw8ask"
   },
   "source": [
    "Thử với các bộ dữ liệu training nhỏ hơn:"
   ]
  },
  {
   "cell_type": "code",
   "execution_count": 10,
   "metadata": {
    "colab": {},
    "colab_type": "code",
    "id": "EFq0iIMg8asl",
    "outputId": "d81322a3-a682-4cfd-8669-dc7056c3e145"
   },
   "outputs": [
    {
     "name": "stdout",
     "output_type": "stream",
     "text": [
      "Training size = 100, accuracy = 97.69%\n"
     ]
    }
   ],
   "source": [
    "train_data_fn = 'train-features-100.txt'\n",
    "train_label_fn = 'train-labels-100.txt'\n",
    "test_data_fn = 'test-features.txt'\n",
    "test_label_fn = 'test-labels.txt'\n",
    "\n",
    "(train_data, train_label)  = read_data(train_data_fn, train_label_fn)\n",
    "(test_data, test_label)  = read_data(test_data_fn, test_label_fn)\n",
    "clf = MultinomialNB()\n",
    "clf.fit(train_data, train_label)\n",
    "y_pred = clf.predict(test_data)\n",
    "print('Training size = %d, accuracy = %.2f%%' % \\\n",
    "      (train_data.shape[0],accuracy_score(test_label, y_pred)*100))"
   ]
  },
  {
   "cell_type": "code",
   "execution_count": 11,
   "metadata": {
    "colab": {},
    "colab_type": "code",
    "id": "OFu6ATK_8asv",
    "outputId": "67d7c719-3d7c-479c-eca5-37e234e4f770"
   },
   "outputs": [
    {
     "name": "stdout",
     "output_type": "stream",
     "text": [
      "Training size = 50, accuracy = 97.31%\n"
     ]
    }
   ],
   "source": [
    "train_data_fn = 'train-features-50.txt'\n",
    "train_label_fn = 'train-labels-50.txt'\n",
    "test_data_fn = 'test-features.txt'\n",
    "test_label_fn = 'test-labels.txt'\n",
    "\n",
    "(train_data, train_label)  = read_data(train_data_fn, train_label_fn)\n",
    "(test_data, test_label)  = read_data(test_data_fn, test_label_fn)\n",
    "clf = MultinomialNB()\n",
    "clf.fit(train_data, train_label)\n",
    "y_pred = clf.predict(test_data)\n",
    "print('Training size = %d, accuracy = %.2f%%' % \\\n",
    "      (train_data.shape[0],accuracy_score(test_label, y_pred)*100))"
   ]
  },
  {
   "cell_type": "markdown",
   "metadata": {
    "colab_type": "text",
    "id": "w-Nwn11H8as4"
   },
   "source": [
    "Ta thấy rằng thậm chí khi tập training là rất nhỏ, 50 emails tổng cộng, kết quả đạt được đã rất ấn tượng. \n",
    "\n",
    "Nếu bạn muốn tiếp tục thử mô hình `BernoulliNB`:"
   ]
  },
  {
   "cell_type": "code",
   "execution_count": 12,
   "metadata": {
    "colab": {},
    "colab_type": "code",
    "id": "Q_YKl29C8as6",
    "outputId": "c59b7e5e-1211-42c2-d08c-2a28d93c2b33"
   },
   "outputs": [
    {
     "name": "stdout",
     "output_type": "stream",
     "text": [
      "Training size = 50, accuracy = 69.62%\n"
     ]
    }
   ],
   "source": [
    "clf = BernoulliNB(binarize = .5)\n",
    "clf.fit(train_data, train_label)\n",
    "y_pred = clf.predict(test_data)\n",
    "print('Training size = %d, accuracy = %.2f%%' % \\\n",
    "      (train_data.shape[0],accuracy_score(test_label, y_pred)*100))"
   ]
  },
  {
   "cell_type": "markdown",
   "metadata": {
    "colab_type": "text",
    "id": "KqJ9OdXl8atC"
   },
   "source": [
    "Ta thấy rằng trong bài toán này, `MultinomialNB` hoạt động hiệu quả hơn. "
   ]
  },
  {
   "cell_type": "code",
   "execution_count": 13,
   "metadata": {
    "colab": {},
    "colab_type": "code",
    "id": "2iO2ybrD8atE",
    "outputId": "76e8b699-e801-4a30-e5e8-508feb677e92"
   },
   "outputs": [
    {
     "name": "stdout",
     "output_type": "stream",
     "text": [
      "[0]\n",
      "[[0.29175335 0.70824665]]\n"
     ]
    }
   ],
   "source": [
    "import numpy as np \n",
    "d1 = [2, 1, 1, 0, 0, 0, 0, 0, 0]\n",
    "d2 = [1, 1, 0, 1, 1, 0, 0, 0, 0]\n",
    "d3 = [0, 1, 0, 0, 1, 1, 0, 0, 0]\n",
    "d4 = [0, 1, 0, 0, 0, 0, 1, 1, 1]\n",
    "\n",
    "d5 = np.array([[2, 0, 0, 1, 0, 0, 0, 1, 0]])\n",
    "d6 = np.array([[0, 1, 0, 0, 0, 0, 0, 1, 1]])\n",
    "train_data = np.array([d1, d2, d3, d4])\n",
    "label = np.array([0, 0, 0, 1])\n",
    "\n",
    "from sklearn.naive_bayes import MultinomialNB\n",
    "\n",
    "clf = MultinomialNB()\n",
    "clf.fit(train_data, label)\n",
    "\n",
    "print(clf.predict(d5))\n",
    "\n",
    "print(clf.predict_proba(d6))"
   ]
  },
  {
   "cell_type": "code",
   "execution_count": 14,
   "metadata": {
    "colab": {},
    "colab_type": "code",
    "id": "ula_Q12X8atP",
    "outputId": "565cebbf-8c2b-4409-9139-7feaf062badc"
   },
   "outputs": [
    {
     "name": "stdout",
     "output_type": "stream",
     "text": [
      "Predicting class of d5: B\n",
      "Probability of d6 in each class: [[0.16948581 0.83051419]]\n"
     ]
    }
   ],
   "source": [
    "from __future__ import print_function\n",
    "from sklearn.naive_bayes import BernoulliNB\n",
    "import numpy as np \n",
    "\n",
    "# train data\n",
    "d1 = [1, 1, 1, 0, 0, 0, 0, 0, 0]\n",
    "d2 = [1, 1, 0, 1, 1, 0, 0, 0, 0]\n",
    "d3 = [0, 1, 0, 0, 1, 1, 0, 0, 0]\n",
    "d4 = [0, 1, 0, 0, 0, 0, 1, 1, 1]\n",
    "\n",
    "train_data = np.array([d1, d2, d3, d4])\n",
    "label = np.array(['B', 'B', 'B', 'N']) # 0 - B, 1 - N \n",
    "\n",
    "# test data\n",
    "d5 = np.array([[1, 0, 0, 1, 0, 0, 0, 1, 0]])\n",
    "d6 = np.array([[0, 1, 0, 0, 0, 0, 0, 1, 1]])\n",
    "\n",
    "## call MultinomialNB\n",
    "clf = BernoulliNB()\n",
    "# training \n",
    "clf.fit(train_data, label)\n",
    "\n",
    "# test\n",
    "print('Predicting class of d5:', str(clf.predict(d5)[0]))\n",
    "print('Probability of d6 in each class:', clf.predict_proba(d6))"
   ]
  }
 ],
 "metadata": {
  "colab": {
   "collapsed_sections": [],
   "name": "Spam filtering.ipynb",
   "provenance": [],
   "version": "0.3.2"
  },
  "kernelspec": {
   "display_name": "Python 3",
   "language": "python",
   "name": "python3"
  },
  "language_info": {
   "codemirror_mode": {
    "name": "ipython",
    "version": 3
   },
   "file_extension": ".py",
   "mimetype": "text/x-python",
   "name": "python",
   "nbconvert_exporter": "python",
   "pygments_lexer": "ipython3",
   "version": "3.6.8"
  }
 },
 "nbformat": 4,
 "nbformat_minor": 1
}

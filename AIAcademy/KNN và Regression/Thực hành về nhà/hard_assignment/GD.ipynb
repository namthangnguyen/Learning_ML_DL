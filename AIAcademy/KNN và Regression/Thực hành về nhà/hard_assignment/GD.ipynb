{
 "cells": [
  {
   "cell_type": "code",
   "execution_count": null,
   "metadata": {
    "collapsed": false
   },
   "outputs": [],
   "source": [
    "%matplotlib inline"
   ]
  },
  {
   "cell_type": "markdown",
   "metadata": {},
   "source": [
    "Gradient Descent\n",
    "===============\n",
    "\n",
    "This is the demo for gradient descent zigzag effect\n",
    "\n",
    "\n"
   ]
  },
  {
   "cell_type": "code",
   "execution_count": 1,
   "metadata": {
    "collapsed": false
   },
   "outputs": [
    {
     "name": "stdout",
     "output_type": "stream",
     "text": [
      "[ -5.19728188e-10   1.03945638e-09]\n",
      "46\n"
     ]
    }
   ],
   "source": [
    "from mpl_toolkits import mplot3d\n",
    "import matplotlib.pyplot as plt\n",
    "import numpy as np\n",
    "\n",
    "def f(W):\n",
    "    return 4*W[0]**2 + W[1]**2\n",
    "\n",
    "def compute_gradient(W):\n",
    "    return np.array([8 * W[0], 2 * W[1]])\n",
    "\n",
    "def update(W, alpha, grad, cache):\n",
    "    return W - alpha * grad, cache #vanilla update\n",
    "\n",
    "w0_grid = np.linspace(-6, 6, 30)\n",
    "w1_grid = np.linspace(-12, 12, 30)\n",
    "\n",
    "W_grid = np.meshgrid(w0_grid, w1_grid)\n",
    "Z = f(W_grid)\n",
    "\n",
    "fig = plt.figure()\n",
    "ax = plt.axes(projection='3d')\n",
    "ax.contour3D(W_grid[0], W_grid[1], Z, 50, cmap='viridis')\n",
    "ax.set_xlabel('x')\n",
    "ax.set_ylabel('y')\n",
    "ax.set_zlabel('z');\n",
    "\n",
    "ax.view_init(60, 35)\n",
    "\n",
    "W = np.array([5, 10])\n",
    "\n",
    "trajectory = [np.append(W, f(W))]\n",
    "\n",
    "alpha = 0.2\n",
    "#alpha = 0.05\n",
    "tolerance = 10E-9\n",
    "e = 1\n",
    "cache = []\n",
    "\n",
    "while e > tolerance:\n",
    "    grad = compute_gradient(W)\n",
    "    W, cache =  update(W, alpha, grad, cache)\n",
    "    trajectory = np.append(trajectory, [np.append(W, f(W))], axis=0)\n",
    "    e = np.amax(np.absolute(grad))\n",
    "\n",
    "print(W)\n",
    "print(len(trajectory))\n",
    "\n",
    "ax.scatter3D(trajectory[:, 0], trajectory[:, 1], trajectory[:, 2], c='red', cmap='Reds');\n",
    "ax.plot3D(trajectory[:, 0], trajectory[:, 1], trajectory[:, 2], 'red')\n",
    "\n",
    "plt.show()"
   ]
  },
  {
   "cell_type": "code",
   "execution_count": null,
   "metadata": {
    "collapsed": true
   },
   "outputs": [],
   "source": []
  }
 ],
 "metadata": {
  "kernelspec": {
   "display_name": "Python 3",
   "language": "python",
   "name": "python3"
  },
  "language_info": {
   "codemirror_mode": {
    "name": "ipython",
    "version": 3
   },
   "file_extension": ".py",
   "mimetype": "text/x-python",
   "name": "python",
   "nbconvert_exporter": "python",
   "pygments_lexer": "ipython3",
   "version": "3.5.2"
  }
 },
 "nbformat": 4,
 "nbformat_minor": 0
}

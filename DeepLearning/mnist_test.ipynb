{
 "cells": [
  {
   "cell_type": "code",
   "execution_count": 6,
   "metadata": {},
   "outputs": [],
   "source": [
    "# thêm các thư viện cần thiết\n",
    "import numpy as np\n",
    "import matplotlib.pyplot as plt\n",
    "from keras.models import Sequential\n",
    "from keras.layers import Dense, Dropout, Activation, Flatten\n",
    "from keras.layers import Conv2D, MaxPooling2D\n",
    "from keras.utils import np_utils\n",
    "from keras.datasets import mnist"
   ]
  },
  {
   "cell_type": "code",
   "execution_count": 7,
   "metadata": {},
   "outputs": [
    {
     "name": "stdout",
     "output_type": "stream",
     "text": [
      "(50000, 28, 28)\n"
     ]
    }
   ],
   "source": [
    "# 2. Load data from MNIST\n",
    "(X_train, y_train), (X_test, y_test) = mnist.load_data()\n",
    "X_val, y_val = X_train[50000:60000,:], y_train[50000:60000]\n",
    "X_train, y_train = X_train[:50000,:], y_train[:50000]\n",
    "print(X_train.shape)"
   ]
  },
  {
   "cell_type": "markdown",
   "metadata": {},
   "source": [
    "Dữ liệu input cho mô hình convolutional neural network là 1 tensor 4 chiều (N, W, H, D)"
   ]
  },
  {
   "cell_type": "code",
   "execution_count": 8,
   "metadata": {},
   "outputs": [],
   "source": [
    "# 3. Reshape lại dữ liệu cho đúng kích thước mà keras yêu cầu \n",
    "X_train = X_train.reshape(X_train.shape[0], 28, 28, 1)\n",
    "X_val = X_val.reshape(X_val.shape[0], 28, 28, 1)\n",
    "X_test = X_test.reshape(X_test.shape[0], 28, 28, 1)"
   ]
  },
  {
   "cell_type": "code",
   "execution_count": 9,
   "metadata": {},
   "outputs": [
    {
     "name": "stdout",
     "output_type": "stream",
     "text": [
      "Dữ liệu y ban đầu  5\n",
      "Dữ liệu y sau one-hot encoding  [0. 0. 0. 0. 0. 1. 0. 0. 0. 0.]\n"
     ]
    }
   ],
   "source": [
    "# 4. One hot encoding label (Y)\n",
    "Y_train = np_utils.to_categorical(y_train, 10)\n",
    "Y_val = np_utils.to_categorical(y_val, 10)\n",
    "Y_test = np_utils.to_categorical(y_test, 10)\n",
    "print('Dữ liệu y ban đầu ', y_train[0])\n",
    "print('Dữ liệu y sau one-hot encoding ',Y_train[0])"
   ]
  },
  {
   "cell_type": "code",
   "execution_count": 10,
   "metadata": {},
   "outputs": [],
   "source": [
    "# 5. Định nghĩa model \n",
    "model = Sequential()\n",
    "\n",
    "# Thêm Convolutional layer với 32 kernel, kích thước kernel 3*3, dùng hàm sigmoid làm activation\n",
    "# và chỉ rõ input_shape nếu là layer đầu tiên\n",
    "model.add(Conv2D(32, (3, 3), activation='sigmoid', input_shape=(28, 28, 1)))\n",
    "\n",
    "# Thêm Convolutional layer\n",
    "model.add(Conv2D(32, (3, 3), activation='sigmoid'))\n",
    "\n",
    "# Thêm Max pooling layer\n",
    "model.add(MaxPooling2D(pool_size=(2, 2)))\n",
    "\n",
    "# Flatten layer chuyển từ tensor sang vector\n",
    "model.add(Flatten())\n",
    "\n",
    "# Thêm Fully Connected layer với 128 nodes và dùng hàm sigmoid\n",
    "model.add(Dense(128, activation='sigmoid'))\n",
    "\n",
    "# Output layer với 10 node và dùng softmax function để chuyển sang xác xuất.\n",
    "model.add(Dense(10, activation='softmax'))"
   ]
  },
  {
   "cell_type": "code",
   "execution_count": 11,
   "metadata": {},
   "outputs": [],
   "source": [
    "# 6. Compile model, chỉ rõ hàm loss_function nào được sử dụng, phương thức \n",
    "# đùng để tối ưu hàm loss function.\n",
    "model.compile(loss='categorical_crossentropy', \n",
    "              optimizer='adam', \n",
    "              metrics=['accuracy'])"
   ]
  },
  {
   "cell_type": "code",
   "execution_count": 9,
   "metadata": {},
   "outputs": [
    {
     "name": "stdout",
     "output_type": "stream",
     "text": [
      "Train on 50000 samples, validate on 10000 samples\n",
      "Epoch 1/10\n",
      "50000/50000 [==============================] - 40s 809us/step - loss: 0.2799 - accuracy: 0.9192 - val_loss: 0.0757 - val_accuracy: 0.9792\n",
      "Epoch 2/10\n",
      "50000/50000 [==============================] - 41s 820us/step - loss: 0.0607 - accuracy: 0.9829 - val_loss: 0.0513 - val_accuracy: 0.9862\n",
      "Epoch 3/10\n",
      "50000/50000 [==============================] - 40s 808us/step - loss: 0.0394 - accuracy: 0.9887 - val_loss: 0.0462 - val_accuracy: 0.9866\n",
      "Epoch 4/10\n",
      "50000/50000 [==============================] - 42s 831us/step - loss: 0.0255 - accuracy: 0.9925 - val_loss: 0.0406 - val_accuracy: 0.9880\n",
      "Epoch 5/10\n",
      "50000/50000 [==============================] - 39s 781us/step - loss: 0.0169 - accuracy: 0.9952 - val_loss: 0.0420 - val_accuracy: 0.9881\n",
      "Epoch 6/10\n",
      "50000/50000 [==============================] - 42s 845us/step - loss: 0.0110 - accuracy: 0.9971 - val_loss: 0.0392 - val_accuracy: 0.9890\n",
      "Epoch 7/10\n",
      "50000/50000 [==============================] - 44s 884us/step - loss: 0.0074 - accuracy: 0.9981 - val_loss: 0.0399 - val_accuracy: 0.9890\n",
      "Epoch 8/10\n",
      "50000/50000 [==============================] - 40s 793us/step - loss: 0.0048 - accuracy: 0.9990 - val_loss: 0.0376 - val_accuracy: 0.9897\n",
      "Epoch 9/10\n",
      "50000/50000 [==============================] - 43s 851us/step - loss: 0.0049 - accuracy: 0.9989 - val_loss: 0.0377 - val_accuracy: 0.9898\n",
      "Epoch 10/10\n",
      "50000/50000 [==============================] - 43s 858us/step - loss: 0.0023 - accuracy: 0.9996 - val_loss: 0.0436 - val_accuracy: 0.9894\n"
     ]
    }
   ],
   "source": [
    "# 7. Thực hiện train model với data\n",
    "H = model.fit(X_train, Y_train, validation_data=(X_val, Y_val),\n",
    "              batch_size=32, epochs=10, verbose=1)"
   ]
  },
  {
   "cell_type": "code",
   "execution_count": 13,
   "metadata": {
    "scrolled": true
   },
   "outputs": [
    {
     "data": {
      "text/plain": [
       "<matplotlib.legend.Legend at 0x7f596c1ced50>"
      ]
     },
     "execution_count": 13,
     "metadata": {},
     "output_type": "execute_result"
    },
    {
     "data": {
      "image/png": "[encoded data removed]",
      "text/plain": [
       "<Figure size 432x288 with 1 Axes>"
      ]
     },
     "metadata": {
      "needs_background": "light"
     },
     "output_type": "display_data"
    }
   ],
   "source": [
    "# 8. Vẽ đồ thị loss, accuracy của traning set và validation set\n",
    "fig = plt.figure()\n",
    "numOfEpoch = 10\n",
    "plt.plot(np.arange(0, numOfEpoch), H.history['loss'], label='training loss')\n",
    "plt.plot(np.arange(0, numOfEpoch), H.history['val_loss'], label='validation loss')\n",
    "plt.plot(np.arange(0, numOfEpoch), H.history['accuracy'], label='accuracy')\n",
    "plt.plot(np.arange(0, numOfEpoch), H.history['val_accuracy'], label='validation accuracy')\n",
    "plt.title('Accuracy and Loss')\n",
    "plt.xlabel('Epoch')\n",
    "plt.ylabel('Loss|Accuracy')\n",
    "plt.legend()"
   ]
  },
  {
   "cell_type": "code",
   "execution_count": 15,
   "metadata": {},
   "outputs": [
    {
     "name": "stdout",
     "output_type": "stream",
     "text": [
      "[0.03988842233403702, 0.9890000224113464]\n"
     ]
    }
   ],
   "source": [
    "# 9. Đánh giá model với dữ liệu test set\n",
    "score = model.evaluate(X_test, Y_test, verbose=0)\n",
    "print(score)"
   ]
  },
  {
   "cell_type": "code",
   "execution_count": 5,
   "metadata": {},
   "outputs": [
    {
     "ename": "NameError",
     "evalue": "name 'model' is not defined",
     "output_type": "error",
     "traceback": [
      "\u001b[0;31m---------------------------------------------------------------------------\u001b[0m",
      "\u001b[0;31mNameError\u001b[0m                                 Traceback (most recent call last)",
      "\u001b[0;32m<ipython-input-5-7b6ca353fe5a>\u001b[0m in \u001b[0;36m<module>\u001b[0;34m\u001b[0m\n\u001b[1;32m      2\u001b[0m \u001b[0mplt\u001b[0m\u001b[0;34m.\u001b[0m\u001b[0mimshow\u001b[0m\u001b[0;34m(\u001b[0m\u001b[0mX_test\u001b[0m\u001b[0;34m[\u001b[0m\u001b[0;36m345\u001b[0m\u001b[0;34m]\u001b[0m\u001b[0;34m.\u001b[0m\u001b[0mreshape\u001b[0m\u001b[0;34m(\u001b[0m\u001b[0;36m28\u001b[0m\u001b[0;34m,\u001b[0m\u001b[0;36m28\u001b[0m\u001b[0;34m)\u001b[0m\u001b[0;34m,\u001b[0m \u001b[0mcmap\u001b[0m\u001b[0;34m=\u001b[0m\u001b[0;34m'gray'\u001b[0m\u001b[0;34m)\u001b[0m\u001b[0;34m\u001b[0m\u001b[0;34m\u001b[0m\u001b[0m\n\u001b[1;32m      3\u001b[0m \u001b[0;34m\u001b[0m\u001b[0m\n\u001b[0;32m----> 4\u001b[0;31m \u001b[0my_predict\u001b[0m \u001b[0;34m=\u001b[0m \u001b[0mmodel\u001b[0m\u001b[0;34m.\u001b[0m\u001b[0mpredict\u001b[0m\u001b[0;34m(\u001b[0m\u001b[0mX_test\u001b[0m\u001b[0;34m[\u001b[0m\u001b[0;36m345\u001b[0m\u001b[0;34m]\u001b[0m\u001b[0;34m.\u001b[0m\u001b[0mreshape\u001b[0m\u001b[0;34m(\u001b[0m\u001b[0;36m1\u001b[0m\u001b[0;34m,\u001b[0m\u001b[0;36m28\u001b[0m\u001b[0;34m,\u001b[0m\u001b[0;36m28\u001b[0m\u001b[0;34m,\u001b[0m\u001b[0;36m1\u001b[0m\u001b[0;34m)\u001b[0m\u001b[0;34m)\u001b[0m\u001b[0;34m\u001b[0m\u001b[0;34m\u001b[0m\u001b[0m\n\u001b[0m\u001b[1;32m      5\u001b[0m \u001b[0mprint\u001b[0m\u001b[0;34m(\u001b[0m\u001b[0;34m'Giá trị dự đoán: '\u001b[0m\u001b[0;34m,\u001b[0m \u001b[0mnp\u001b[0m\u001b[0;34m.\u001b[0m\u001b[0margmax\u001b[0m\u001b[0;34m(\u001b[0m\u001b[0my_predict\u001b[0m\u001b[0;34m)\u001b[0m\u001b[0;34m)\u001b[0m\u001b[0;34m\u001b[0m\u001b[0;34m\u001b[0m\u001b[0m\n",
      "\u001b[0;31mNameError\u001b[0m: name 'model' is not defined"
     ]
    },
    {
     "data": {
      "image/png": "[encoded data removed]",
      "text/plain": [
       "<Figure size 432x288 with 1 Axes>"
      ]
     },
     "metadata": {
      "needs_background": "light"
     },
     "output_type": "display_data"
    }
   ],
   "source": [
    "# 10. Dự đoán ảnh\n",
    "plt.imshow(X_test[345].reshape(28,28), cmap='gray')\n",
    "\n",
    "y_predict = model.predict(X_test[345].reshape(1,28,28,1))\n",
    "print('Giá trị dự đoán: ', np.argmax(y_predict))"
   ]
  },
  {
   "cell_type": "code",
   "execution_count": null,
   "metadata": {},
   "outputs": [],
   "source": []
  }
 ],
 "metadata": {
  "kernelspec": {
   "display_name": "Python 3",
   "language": "python",
   "name": "python3"
  },
  "language_info": {
   "codemirror_mode": {
    "name": "ipython",
    "version": 3
   },
   "file_extension": ".py",
   "mimetype": "text/x-python",
   "name": "python",
   "nbconvert_exporter": "python",
   "pygments_lexer": "ipython3",
   "version": "3.7.5"
  }
 },
 "nbformat": 4,
 "nbformat_minor": 4
}
